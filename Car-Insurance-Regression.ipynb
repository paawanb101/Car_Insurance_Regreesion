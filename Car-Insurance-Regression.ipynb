{
 "cells": [
  {
   "cell_type": "markdown",
   "metadata": {},
   "source": [
    "# Car Insurance Regression Project Part 1\n",
    "\n",
    "### 1. Objective and Techniques:\n",
    "\n",
    "We will be predicting Customer Lifetime Value by the help of available columns. For this we will be using the following regression techniques:\n",
    "\n",
    "- KNN repressor \n",
    "- Linear regression\n",
    "- Ridge, Lasso, and polynomial regression \n",
    "- SVM both simple and with kernels (rbf, poly, linear)\n",
    "- Decison Tree Regressor\n",
    "\n",
    "### 2. Dataset Description:\n",
    "\n",
    "- State: 5 states= **Arizona, California, Nevada, Oregon, Washington**\n",
    "- Customer Lifetime Value (CLV): Total Premium Collected till date - Total Claim (***Target Column***)\n",
    "- Response: *We will be dropping this column*\n",
    "- Coverage Type: 3 Types = **Basic, Extended, Premium**\n",
    "- Education Level: **High School or Below, College, Bachelor, Master, Doctor**(Ordinal Variable)\n",
    "- Effective to Date: (*This column will be dropped*)\n",
    "- EmploymentStatus: 5 types = **Unemployed, Disabled, Medical Leave, Employeed, Retired**\n",
    "- Gender: *Male or Female*\n",
    "- Income: Dollars Earned\n",
    "- Location: *Location type of the client* = **Rural, Suburban, Urban**\n",
    "- Marital Status: **Single, Divorced, Married**\n",
    "- Monthly Premium Auto: *Monthly insurance premium*\n",
    "- Months Since Last Claim: *Number of months since the last claim*\n",
    "- Months Since Policy Inception: *How old is the policy?*\n",
    "- Number of Open Complaints: *Open cases*\n",
    "- Number of Policy: *Total number of policy bought*\n",
    "- Policy Type: **Corporate, Personal, Special**\n",
    "- Policy: *Each Policy type has 3 sub-categories*\n",
    "- Renew Offer: *Four offer types*\n",
    "- Total Claim Amount: *Expenses beared by the company*\n",
    "- Vehicle Class: **Four Door Car, Luxury Car, Luxury SUV, Sports Car, SUV, Two Door Car**\n",
    "- Vehicle Size: *Three vehicle sizes = **Small, Medsize, Large**\n",
    "\n",
    "Type Of Variables  \n",
    "\n",
    "| Type of Variable | Number of Variable |\n",
    "| ------ | ------ |\n",
    "| Numerical | 8 |\n",
    "| Categorical | 11 |\n",
    "| Ordinal | 3 |\n",
    "| Date and Time | 1 |\n",
    "| Unique ID | 1 |\n",
    "| **Total Columns** | 24 |\n",
    "\n",
    "**NOTE: Initially this dataset does not include missing values, we will be adding missing values**\n",
    "\n",
    "### 3. Approach:\n",
    "- Importing the Required Libraries\n",
    "- Adding the missing values (as data does not contain any)\n",
    "- Exploratory Data Analysis\n",
    "- Finding the Best features for CLV prediction\n",
    "- Selecting the best algorithm"
   ]
  },
  {
   "cell_type": "markdown",
   "metadata": {},
   "source": [
    "### Libraries Import"
   ]
  },
  {
   "cell_type": "code",
   "execution_count": 1,
   "metadata": {},
   "outputs": [],
   "source": [
    "import numpy as np\n",
    "import pandas as pd\n",
    "import matplotlib.pyplot as plt\n",
    "import seaborn as sns\n",
    "sns.set()"
   ]
  },
  {
   "cell_type": "markdown",
   "metadata": {},
   "source": [
    "### Data Import"
   ]
  },
  {
   "cell_type": "code",
   "execution_count": 2,
   "metadata": {
    "scrolled": true
   },
   "outputs": [
    {
     "data": {
      "text/html": [
       "<div>\n",
       "<style scoped>\n",
       "    .dataframe tbody tr th:only-of-type {\n",
       "        vertical-align: middle;\n",
       "    }\n",
       "\n",
       "    .dataframe tbody tr th {\n",
       "        vertical-align: top;\n",
       "    }\n",
       "\n",
       "    .dataframe thead th {\n",
       "        text-align: right;\n",
       "    }\n",
       "</style>\n",
       "<table border=\"1\" class=\"dataframe\">\n",
       "  <thead>\n",
       "    <tr style=\"text-align: right;\">\n",
       "      <th></th>\n",
       "      <th>Customer</th>\n",
       "      <th>State</th>\n",
       "      <th>Customer Lifetime Value</th>\n",
       "      <th>Response</th>\n",
       "      <th>Coverage</th>\n",
       "      <th>Education</th>\n",
       "      <th>Effective To Date</th>\n",
       "      <th>EmploymentStatus</th>\n",
       "      <th>Gender</th>\n",
       "      <th>Income</th>\n",
       "      <th>...</th>\n",
       "      <th>Months Since Policy Inception</th>\n",
       "      <th>Number of Open Complaints</th>\n",
       "      <th>Number of Policies</th>\n",
       "      <th>Policy Type</th>\n",
       "      <th>Policy</th>\n",
       "      <th>Renew Offer Type</th>\n",
       "      <th>Sales Channel</th>\n",
       "      <th>Total Claim Amount</th>\n",
       "      <th>Vehicle Class</th>\n",
       "      <th>Vehicle Size</th>\n",
       "    </tr>\n",
       "  </thead>\n",
       "  <tbody>\n",
       "    <tr>\n",
       "      <td>0</td>\n",
       "      <td>BU79786</td>\n",
       "      <td>Washington</td>\n",
       "      <td>2763.519279</td>\n",
       "      <td>No</td>\n",
       "      <td>Basic</td>\n",
       "      <td>Bachelor</td>\n",
       "      <td>2/24/2011</td>\n",
       "      <td>Employed</td>\n",
       "      <td>F</td>\n",
       "      <td>56274</td>\n",
       "      <td>...</td>\n",
       "      <td>5</td>\n",
       "      <td>0</td>\n",
       "      <td>1</td>\n",
       "      <td>Corporate Auto</td>\n",
       "      <td>Corporate L3</td>\n",
       "      <td>Offer1</td>\n",
       "      <td>Agent</td>\n",
       "      <td>384.81</td>\n",
       "      <td>Two-Door Car</td>\n",
       "      <td>Medsize</td>\n",
       "    </tr>\n",
       "    <tr>\n",
       "      <td>1</td>\n",
       "      <td>QZ44356</td>\n",
       "      <td>Arizona</td>\n",
       "      <td>6979.535903</td>\n",
       "      <td>No</td>\n",
       "      <td>Extended</td>\n",
       "      <td>Bachelor</td>\n",
       "      <td>1/31/2011</td>\n",
       "      <td>Unemployed</td>\n",
       "      <td>F</td>\n",
       "      <td>0</td>\n",
       "      <td>...</td>\n",
       "      <td>42</td>\n",
       "      <td>0</td>\n",
       "      <td>8</td>\n",
       "      <td>Personal Auto</td>\n",
       "      <td>Personal L3</td>\n",
       "      <td>Offer3</td>\n",
       "      <td>Agent</td>\n",
       "      <td>1131.46</td>\n",
       "      <td>Four-Door Car</td>\n",
       "      <td>Medsize</td>\n",
       "    </tr>\n",
       "    <tr>\n",
       "      <td>2</td>\n",
       "      <td>AI49188</td>\n",
       "      <td>Nevada</td>\n",
       "      <td>12887.431650</td>\n",
       "      <td>No</td>\n",
       "      <td>Premium</td>\n",
       "      <td>Bachelor</td>\n",
       "      <td>2/19/2011</td>\n",
       "      <td>Employed</td>\n",
       "      <td>F</td>\n",
       "      <td>48767</td>\n",
       "      <td>...</td>\n",
       "      <td>38</td>\n",
       "      <td>0</td>\n",
       "      <td>2</td>\n",
       "      <td>Personal Auto</td>\n",
       "      <td>Personal L3</td>\n",
       "      <td>Offer1</td>\n",
       "      <td>Agent</td>\n",
       "      <td>566.47</td>\n",
       "      <td>Two-Door Car</td>\n",
       "      <td>Medsize</td>\n",
       "    </tr>\n",
       "    <tr>\n",
       "      <td>3</td>\n",
       "      <td>WW63253</td>\n",
       "      <td>California</td>\n",
       "      <td>7645.861827</td>\n",
       "      <td>No</td>\n",
       "      <td>Basic</td>\n",
       "      <td>Bachelor</td>\n",
       "      <td>1/20/2011</td>\n",
       "      <td>Unemployed</td>\n",
       "      <td>M</td>\n",
       "      <td>0</td>\n",
       "      <td>...</td>\n",
       "      <td>65</td>\n",
       "      <td>0</td>\n",
       "      <td>7</td>\n",
       "      <td>Corporate Auto</td>\n",
       "      <td>Corporate L2</td>\n",
       "      <td>Offer1</td>\n",
       "      <td>Call Center</td>\n",
       "      <td>529.88</td>\n",
       "      <td>SUV</td>\n",
       "      <td>Medsize</td>\n",
       "    </tr>\n",
       "    <tr>\n",
       "      <td>4</td>\n",
       "      <td>HB64268</td>\n",
       "      <td>Washington</td>\n",
       "      <td>2813.692575</td>\n",
       "      <td>No</td>\n",
       "      <td>Basic</td>\n",
       "      <td>Bachelor</td>\n",
       "      <td>2/3/2011</td>\n",
       "      <td>Employed</td>\n",
       "      <td>M</td>\n",
       "      <td>43836</td>\n",
       "      <td>...</td>\n",
       "      <td>44</td>\n",
       "      <td>0</td>\n",
       "      <td>1</td>\n",
       "      <td>Personal Auto</td>\n",
       "      <td>Personal L1</td>\n",
       "      <td>Offer1</td>\n",
       "      <td>Agent</td>\n",
       "      <td>138.13</td>\n",
       "      <td>Four-Door Car</td>\n",
       "      <td>Medsize</td>\n",
       "    </tr>\n",
       "    <tr>\n",
       "      <td>5</td>\n",
       "      <td>OC83172</td>\n",
       "      <td>Oregon</td>\n",
       "      <td>8256.297800</td>\n",
       "      <td>Yes</td>\n",
       "      <td>Basic</td>\n",
       "      <td>Bachelor</td>\n",
       "      <td>1/25/2011</td>\n",
       "      <td>Employed</td>\n",
       "      <td>F</td>\n",
       "      <td>62902</td>\n",
       "      <td>...</td>\n",
       "      <td>94</td>\n",
       "      <td>0</td>\n",
       "      <td>2</td>\n",
       "      <td>Personal Auto</td>\n",
       "      <td>Personal L3</td>\n",
       "      <td>Offer2</td>\n",
       "      <td>Web</td>\n",
       "      <td>159.38</td>\n",
       "      <td>Two-Door Car</td>\n",
       "      <td>Medsize</td>\n",
       "    </tr>\n",
       "    <tr>\n",
       "      <td>6</td>\n",
       "      <td>XZ87318</td>\n",
       "      <td>Oregon</td>\n",
       "      <td>5380.898636</td>\n",
       "      <td>Yes</td>\n",
       "      <td>Basic</td>\n",
       "      <td>College</td>\n",
       "      <td>2/24/2011</td>\n",
       "      <td>Employed</td>\n",
       "      <td>F</td>\n",
       "      <td>55350</td>\n",
       "      <td>...</td>\n",
       "      <td>13</td>\n",
       "      <td>0</td>\n",
       "      <td>9</td>\n",
       "      <td>Corporate Auto</td>\n",
       "      <td>Corporate L3</td>\n",
       "      <td>Offer1</td>\n",
       "      <td>Agent</td>\n",
       "      <td>321.60</td>\n",
       "      <td>Four-Door Car</td>\n",
       "      <td>Medsize</td>\n",
       "    </tr>\n",
       "    <tr>\n",
       "      <td>7</td>\n",
       "      <td>CF85061</td>\n",
       "      <td>Arizona</td>\n",
       "      <td>7216.100311</td>\n",
       "      <td>No</td>\n",
       "      <td>Premium</td>\n",
       "      <td>Master</td>\n",
       "      <td>1/18/2011</td>\n",
       "      <td>Unemployed</td>\n",
       "      <td>M</td>\n",
       "      <td>0</td>\n",
       "      <td>...</td>\n",
       "      <td>68</td>\n",
       "      <td>0</td>\n",
       "      <td>4</td>\n",
       "      <td>Corporate Auto</td>\n",
       "      <td>Corporate L3</td>\n",
       "      <td>Offer1</td>\n",
       "      <td>Agent</td>\n",
       "      <td>363.03</td>\n",
       "      <td>Four-Door Car</td>\n",
       "      <td>Medsize</td>\n",
       "    </tr>\n",
       "    <tr>\n",
       "      <td>8</td>\n",
       "      <td>DY87989</td>\n",
       "      <td>Oregon</td>\n",
       "      <td>24127.504020</td>\n",
       "      <td>Yes</td>\n",
       "      <td>Basic</td>\n",
       "      <td>Bachelor</td>\n",
       "      <td>1/26/2011</td>\n",
       "      <td>Medical Leave</td>\n",
       "      <td>M</td>\n",
       "      <td>14072</td>\n",
       "      <td>...</td>\n",
       "      <td>3</td>\n",
       "      <td>0</td>\n",
       "      <td>2</td>\n",
       "      <td>Corporate Auto</td>\n",
       "      <td>Corporate L3</td>\n",
       "      <td>Offer1</td>\n",
       "      <td>Agent</td>\n",
       "      <td>511.20</td>\n",
       "      <td>Four-Door Car</td>\n",
       "      <td>Medsize</td>\n",
       "    </tr>\n",
       "    <tr>\n",
       "      <td>9</td>\n",
       "      <td>BQ94931</td>\n",
       "      <td>Oregon</td>\n",
       "      <td>7388.178085</td>\n",
       "      <td>No</td>\n",
       "      <td>Extended</td>\n",
       "      <td>College</td>\n",
       "      <td>2/17/2011</td>\n",
       "      <td>Employed</td>\n",
       "      <td>F</td>\n",
       "      <td>28812</td>\n",
       "      <td>...</td>\n",
       "      <td>7</td>\n",
       "      <td>0</td>\n",
       "      <td>8</td>\n",
       "      <td>Special Auto</td>\n",
       "      <td>Special L2</td>\n",
       "      <td>Offer2</td>\n",
       "      <td>Branch</td>\n",
       "      <td>425.53</td>\n",
       "      <td>Four-Door Car</td>\n",
       "      <td>Medsize</td>\n",
       "    </tr>\n",
       "  </tbody>\n",
       "</table>\n",
       "<p>10 rows × 24 columns</p>\n",
       "</div>"
      ],
      "text/plain": [
       "  Customer       State  Customer Lifetime Value Response  Coverage Education  \\\n",
       "0  BU79786  Washington              2763.519279       No     Basic  Bachelor   \n",
       "1  QZ44356     Arizona              6979.535903       No  Extended  Bachelor   \n",
       "2  AI49188      Nevada             12887.431650       No   Premium  Bachelor   \n",
       "3  WW63253  California              7645.861827       No     Basic  Bachelor   \n",
       "4  HB64268  Washington              2813.692575       No     Basic  Bachelor   \n",
       "5  OC83172      Oregon              8256.297800      Yes     Basic  Bachelor   \n",
       "6  XZ87318      Oregon              5380.898636      Yes     Basic   College   \n",
       "7  CF85061     Arizona              7216.100311       No   Premium    Master   \n",
       "8  DY87989      Oregon             24127.504020      Yes     Basic  Bachelor   \n",
       "9  BQ94931      Oregon              7388.178085       No  Extended   College   \n",
       "\n",
       "  Effective To Date EmploymentStatus Gender  Income  ...  \\\n",
       "0         2/24/2011         Employed      F   56274  ...   \n",
       "1         1/31/2011       Unemployed      F       0  ...   \n",
       "2         2/19/2011         Employed      F   48767  ...   \n",
       "3         1/20/2011       Unemployed      M       0  ...   \n",
       "4          2/3/2011         Employed      M   43836  ...   \n",
       "5         1/25/2011         Employed      F   62902  ...   \n",
       "6         2/24/2011         Employed      F   55350  ...   \n",
       "7         1/18/2011       Unemployed      M       0  ...   \n",
       "8         1/26/2011    Medical Leave      M   14072  ...   \n",
       "9         2/17/2011         Employed      F   28812  ...   \n",
       "\n",
       "  Months Since Policy Inception Number of Open Complaints  Number of Policies  \\\n",
       "0                             5                         0                   1   \n",
       "1                            42                         0                   8   \n",
       "2                            38                         0                   2   \n",
       "3                            65                         0                   7   \n",
       "4                            44                         0                   1   \n",
       "5                            94                         0                   2   \n",
       "6                            13                         0                   9   \n",
       "7                            68                         0                   4   \n",
       "8                             3                         0                   2   \n",
       "9                             7                         0                   8   \n",
       "\n",
       "      Policy Type        Policy  Renew Offer Type  Sales Channel  \\\n",
       "0  Corporate Auto  Corporate L3            Offer1          Agent   \n",
       "1   Personal Auto   Personal L3            Offer3          Agent   \n",
       "2   Personal Auto   Personal L3            Offer1          Agent   \n",
       "3  Corporate Auto  Corporate L2            Offer1    Call Center   \n",
       "4   Personal Auto   Personal L1            Offer1          Agent   \n",
       "5   Personal Auto   Personal L3            Offer2            Web   \n",
       "6  Corporate Auto  Corporate L3            Offer1          Agent   \n",
       "7  Corporate Auto  Corporate L3            Offer1          Agent   \n",
       "8  Corporate Auto  Corporate L3            Offer1          Agent   \n",
       "9    Special Auto    Special L2            Offer2         Branch   \n",
       "\n",
       "  Total Claim Amount  Vehicle Class Vehicle Size  \n",
       "0             384.81   Two-Door Car      Medsize  \n",
       "1            1131.46  Four-Door Car      Medsize  \n",
       "2             566.47   Two-Door Car      Medsize  \n",
       "3             529.88            SUV      Medsize  \n",
       "4             138.13  Four-Door Car      Medsize  \n",
       "5             159.38   Two-Door Car      Medsize  \n",
       "6             321.60  Four-Door Car      Medsize  \n",
       "7             363.03  Four-Door Car      Medsize  \n",
       "8             511.20  Four-Door Car      Medsize  \n",
       "9             425.53  Four-Door Car      Medsize  \n",
       "\n",
       "[10 rows x 24 columns]"
      ]
     },
     "execution_count": 2,
     "metadata": {},
     "output_type": "execute_result"
    }
   ],
   "source": [
    "df = pd.read_csv('car_insurance_19.csv')\n",
    "df.head(10)"
   ]
  },
  {
   "cell_type": "code",
   "execution_count": 3,
   "metadata": {},
   "outputs": [
    {
     "name": "stdout",
     "output_type": "stream",
     "text": [
      "<class 'pandas.core.frame.DataFrame'>\n",
      "RangeIndex: 9134 entries, 0 to 9133\n",
      "Data columns (total 24 columns):\n",
      "Customer                         9134 non-null object\n",
      "State                            9134 non-null object\n",
      "Customer Lifetime Value          9134 non-null float64\n",
      "Response                         9134 non-null object\n",
      "Coverage                         9134 non-null object\n",
      "Education                        9134 non-null object\n",
      "Effective To Date                9134 non-null object\n",
      "EmploymentStatus                 9134 non-null object\n",
      "Gender                           9134 non-null object\n",
      "Income                           9134 non-null int64\n",
      "Location Code                    9134 non-null object\n",
      "Marital Status                   9134 non-null object\n",
      "Monthly Premium Auto             9134 non-null int64\n",
      "Months Since Last Claim          9134 non-null int64\n",
      "Months Since Policy Inception    9134 non-null int64\n",
      "Number of Open Complaints        9134 non-null int64\n",
      "Number of Policies               9134 non-null int64\n",
      "Policy Type                      9134 non-null object\n",
      "Policy                           9134 non-null object\n",
      "Renew Offer Type                 9134 non-null object\n",
      "Sales Channel                    9134 non-null object\n",
      "Total Claim Amount               9134 non-null float64\n",
      "Vehicle Class                    9134 non-null object\n",
      "Vehicle Size                     9134 non-null object\n",
      "dtypes: float64(2), int64(6), object(16)\n",
      "memory usage: 1.7+ MB\n"
     ]
    }
   ],
   "source": [
    "df.info()"
   ]
  },
  {
   "cell_type": "code",
   "execution_count": 4,
   "metadata": {},
   "outputs": [
    {
     "name": "stdout",
     "output_type": "stream",
     "text": [
      "Total Number of Rows:\n",
      " 9134\n",
      "Total Number of Columns:\n",
      " 24\n"
     ]
    }
   ],
   "source": [
    "print (\"Total Number of Rows:\\n\", df.shape[0])\n",
    "print (\"Total Number of Columns:\\n\", df.shape[1])"
   ]
  },
  {
   "cell_type": "code",
   "execution_count": 5,
   "metadata": {},
   "outputs": [],
   "source": [
    "#Randomly added missing values in columns\n",
    "cols = [1, 4, 5, 8, 9, 13, 15, 18, 21, 22]\n",
    "np.random.seed(0)\n",
    "masking_array = np.random.randint(100, size = (df.shape[0], 10)) < 90\n",
    "df[df.columns[cols]] = df[df.columns[cols]].where(masking_array, np.nan)"
   ]
  },
  {
   "cell_type": "code",
   "execution_count": 6,
   "metadata": {},
   "outputs": [
    {
     "name": "stdout",
     "output_type": "stream",
     "text": [
      "Null values in Each Column :\n",
      " Customer                           0\n",
      "State                            904\n",
      "Customer Lifetime Value            0\n",
      "Response                           0\n",
      "Coverage                         898\n",
      "Education                        972\n",
      "Effective To Date                  0\n",
      "EmploymentStatus                   0\n",
      "Gender                           906\n",
      "Income                           949\n",
      "Location Code                      0\n",
      "Marital Status                     0\n",
      "Monthly Premium Auto               0\n",
      "Months Since Last Claim          942\n",
      "Months Since Policy Inception      0\n",
      "Number of Open Complaints        885\n",
      "Number of Policies                 0\n",
      "Policy Type                        0\n",
      "Policy                           918\n",
      "Renew Offer Type                   0\n",
      "Sales Channel                      0\n",
      "Total Claim Amount               882\n",
      "Vehicle Class                    884\n",
      "Vehicle Size                       0\n",
      "dtype: int64\n"
     ]
    }
   ],
   "source": [
    "print(\"Null values in Each Column :\\n\", df.isnull().sum())"
   ]
  },
  {
   "cell_type": "markdown",
   "metadata": {},
   "source": [
    "**We will be dropping the following columns:**\n",
    "- Customer\n",
    "- Response\n",
    "- Effective to Date\n",
    "\n",
    "**We have missing values in the following columns:**\n",
    "- State, Coverage, Education, Gender, Income, Months Since Last Claim, Number of Open Complaints, Policy, Total Claim Amount, Vehicle Class"
   ]
  },
  {
   "cell_type": "code",
   "execution_count": 7,
   "metadata": {},
   "outputs": [],
   "source": [
    "df.drop(\"Customer\", axis = 1, inplace = True)\n",
    "df.drop(\"Response\", axis = 1, inplace = True)\n",
    "df.drop(\"Effective To Date\", axis = 1, inplace = True)"
   ]
  },
  {
   "cell_type": "code",
   "execution_count": 8,
   "metadata": {
    "scrolled": false
   },
   "outputs": [
    {
     "data": {
      "text/html": [
       "<div>\n",
       "<style scoped>\n",
       "    .dataframe tbody tr th:only-of-type {\n",
       "        vertical-align: middle;\n",
       "    }\n",
       "\n",
       "    .dataframe tbody tr th {\n",
       "        vertical-align: top;\n",
       "    }\n",
       "\n",
       "    .dataframe thead th {\n",
       "        text-align: right;\n",
       "    }\n",
       "</style>\n",
       "<table border=\"1\" class=\"dataframe\">\n",
       "  <thead>\n",
       "    <tr style=\"text-align: right;\">\n",
       "      <th></th>\n",
       "      <th>Customer Lifetime Value</th>\n",
       "      <th>Income</th>\n",
       "      <th>Monthly Premium Auto</th>\n",
       "      <th>Months Since Last Claim</th>\n",
       "      <th>Months Since Policy Inception</th>\n",
       "      <th>Number of Open Complaints</th>\n",
       "      <th>Number of Policies</th>\n",
       "      <th>Total Claim Amount</th>\n",
       "    </tr>\n",
       "  </thead>\n",
       "  <tbody>\n",
       "    <tr>\n",
       "      <td>count</td>\n",
       "      <td>9134.000000</td>\n",
       "      <td>8185.000000</td>\n",
       "      <td>9134.000000</td>\n",
       "      <td>8192.000000</td>\n",
       "      <td>9134.000000</td>\n",
       "      <td>8249.000000</td>\n",
       "      <td>9134.000000</td>\n",
       "      <td>8252.000000</td>\n",
       "    </tr>\n",
       "    <tr>\n",
       "      <td>mean</td>\n",
       "      <td>8004.940475</td>\n",
       "      <td>37568.899939</td>\n",
       "      <td>93.219291</td>\n",
       "      <td>15.106079</td>\n",
       "      <td>48.064594</td>\n",
       "      <td>0.382471</td>\n",
       "      <td>2.966170</td>\n",
       "      <td>432.443791</td>\n",
       "    </tr>\n",
       "    <tr>\n",
       "      <td>std</td>\n",
       "      <td>6870.967608</td>\n",
       "      <td>30249.533167</td>\n",
       "      <td>34.407967</td>\n",
       "      <td>10.057622</td>\n",
       "      <td>27.905991</td>\n",
       "      <td>0.906538</td>\n",
       "      <td>2.390182</td>\n",
       "      <td>288.528395</td>\n",
       "    </tr>\n",
       "    <tr>\n",
       "      <td>min</td>\n",
       "      <td>1898.007675</td>\n",
       "      <td>0.000000</td>\n",
       "      <td>61.000000</td>\n",
       "      <td>0.000000</td>\n",
       "      <td>0.000000</td>\n",
       "      <td>0.000000</td>\n",
       "      <td>1.000000</td>\n",
       "      <td>0.100000</td>\n",
       "    </tr>\n",
       "    <tr>\n",
       "      <td>25%</td>\n",
       "      <td>3994.251794</td>\n",
       "      <td>0.000000</td>\n",
       "      <td>68.000000</td>\n",
       "      <td>6.000000</td>\n",
       "      <td>24.000000</td>\n",
       "      <td>0.000000</td>\n",
       "      <td>1.000000</td>\n",
       "      <td>268.470000</td>\n",
       "    </tr>\n",
       "    <tr>\n",
       "      <td>50%</td>\n",
       "      <td>5780.182197</td>\n",
       "      <td>34087.000000</td>\n",
       "      <td>83.000000</td>\n",
       "      <td>14.000000</td>\n",
       "      <td>48.000000</td>\n",
       "      <td>0.000000</td>\n",
       "      <td>2.000000</td>\n",
       "      <td>382.080000</td>\n",
       "    </tr>\n",
       "    <tr>\n",
       "      <td>75%</td>\n",
       "      <td>8962.167041</td>\n",
       "      <td>62007.000000</td>\n",
       "      <td>109.000000</td>\n",
       "      <td>23.000000</td>\n",
       "      <td>71.000000</td>\n",
       "      <td>0.000000</td>\n",
       "      <td>4.000000</td>\n",
       "      <td>547.200000</td>\n",
       "    </tr>\n",
       "    <tr>\n",
       "      <td>max</td>\n",
       "      <td>83325.381190</td>\n",
       "      <td>99981.000000</td>\n",
       "      <td>298.000000</td>\n",
       "      <td>35.000000</td>\n",
       "      <td>99.000000</td>\n",
       "      <td>5.000000</td>\n",
       "      <td>9.000000</td>\n",
       "      <td>2893.240000</td>\n",
       "    </tr>\n",
       "  </tbody>\n",
       "</table>\n",
       "</div>"
      ],
      "text/plain": [
       "       Customer Lifetime Value        Income  Monthly Premium Auto  \\\n",
       "count              9134.000000   8185.000000           9134.000000   \n",
       "mean               8004.940475  37568.899939             93.219291   \n",
       "std                6870.967608  30249.533167             34.407967   \n",
       "min                1898.007675      0.000000             61.000000   \n",
       "25%                3994.251794      0.000000             68.000000   \n",
       "50%                5780.182197  34087.000000             83.000000   \n",
       "75%                8962.167041  62007.000000            109.000000   \n",
       "max               83325.381190  99981.000000            298.000000   \n",
       "\n",
       "       Months Since Last Claim  Months Since Policy Inception  \\\n",
       "count              8192.000000                    9134.000000   \n",
       "mean                 15.106079                      48.064594   \n",
       "std                  10.057622                      27.905991   \n",
       "min                   0.000000                       0.000000   \n",
       "25%                   6.000000                      24.000000   \n",
       "50%                  14.000000                      48.000000   \n",
       "75%                  23.000000                      71.000000   \n",
       "max                  35.000000                      99.000000   \n",
       "\n",
       "       Number of Open Complaints  Number of Policies  Total Claim Amount  \n",
       "count                8249.000000         9134.000000         8252.000000  \n",
       "mean                    0.382471            2.966170          432.443791  \n",
       "std                     0.906538            2.390182          288.528395  \n",
       "min                     0.000000            1.000000            0.100000  \n",
       "25%                     0.000000            1.000000          268.470000  \n",
       "50%                     0.000000            2.000000          382.080000  \n",
       "75%                     0.000000            4.000000          547.200000  \n",
       "max                     5.000000            9.000000         2893.240000  "
      ]
     },
     "execution_count": 8,
     "metadata": {},
     "output_type": "execute_result"
    }
   ],
   "source": [
    "df.describe()"
   ]
  },
  {
   "cell_type": "markdown",
   "metadata": {},
   "source": [
    "It looks like we have some outliers as 75% of the values in the ```Customer Lifetime Value``` are closer to the mean, it is highly skewed therefore top 2% of the data will be removed."
   ]
  },
  {
   "cell_type": "code",
   "execution_count": 9,
   "metadata": {},
   "outputs": [
    {
     "name": "stdout",
     "output_type": "stream",
     "text": [
      "AxesSubplot(0.125,0.125;0.775x0.755)\n"
     ]
    },
    {
     "data": {
      "image/png": "[encoded data removed]",
      "text/plain": [
       "<Figure size 432x288 with 1 Axes>"
      ]
     },
     "metadata": {
      "needs_background": "light"
     },
     "output_type": "display_data"
    }
   ],
   "source": [
    "print(sns.countplot(x = df['Coverage']))\n",
    "# It is clear from the plot that people enroll for Basic Coverage more than any other coverage; \n",
    "# therefore we will be imputing Basic in place of np.NaN values "
   ]
  },
  {
   "cell_type": "code",
   "execution_count": 10,
   "metadata": {},
   "outputs": [],
   "source": [
    "df['Coverage'].replace({np.nan: 'Basic'}, inplace = True)"
   ]
  },
  {
   "cell_type": "code",
   "execution_count": 11,
   "metadata": {},
   "outputs": [
    {
     "name": "stdout",
     "output_type": "stream",
     "text": [
      "AxesSubplot(0.125,0.125;0.775x0.755)\n"
     ]
    },
    {
     "data": {
      "image/png": "[encoded data removed]",
      "text/plain": [
       "<Figure size 432x288 with 1 Axes>"
      ]
     },
     "metadata": {
      "needs_background": "light"
     },
     "output_type": "display_data"
    }
   ],
   "source": [
    "print(sns.countplot(x = df['Education']))\n",
    "#Highest number of clients have completed Bachelors; missing values will be replaced with Bachelor"
   ]
  },
  {
   "cell_type": "code",
   "execution_count": 12,
   "metadata": {},
   "outputs": [],
   "source": [
    "df['Education'].replace({np.nan: 'Bachelor'}, inplace = True)"
   ]
  },
  {
   "cell_type": "code",
   "execution_count": 13,
   "metadata": {},
   "outputs": [
    {
     "data": {
      "text/plain": [
       "<matplotlib.axes._subplots.AxesSubplot at 0x151a05644c8>"
      ]
     },
     "execution_count": 13,
     "metadata": {},
     "output_type": "execute_result"
    },
    {
     "data": {
      "image/png": "[encoded data removed]",
      "text/plain": [
       "<Figure size 432x288 with 1 Axes>"
      ]
     },
     "metadata": {
      "needs_background": "light"
     },
     "output_type": "display_data"
    }
   ],
   "source": [
    "sns.countplot(x = 'State', data = df)"
   ]
  },
  {
   "cell_type": "code",
   "execution_count": 14,
   "metadata": {},
   "outputs": [],
   "source": [
    "df['State'].replace({np.nan: 'California'}, inplace = True)"
   ]
  },
  {
   "cell_type": "code",
   "execution_count": 15,
   "metadata": {},
   "outputs": [
    {
     "name": "stdout",
     "output_type": "stream",
     "text": [
      "AxesSubplot(0.125,0.125;0.775x0.755)\n"
     ]
    },
    {
     "data": {
      "image/png": "[encoded data removed]",
      "text/plain": [
       "<Figure size 432x288 with 1 Axes>"
      ]
     },
     "metadata": {
      "needs_background": "light"
     },
     "output_type": "display_data"
    }
   ],
   "source": [
    "print(sns.countplot(x = \"Gender\", data=df))\n"
   ]
  },
  {
   "cell_type": "code",
   "execution_count": 16,
   "metadata": {},
   "outputs": [],
   "source": [
    "#We have More females compared to males as our customers; Therefore we will replace np.nan with Female\n",
    "df['Gender'].replace({np.nan: 'F'}, inplace = True)"
   ]
  },
  {
   "cell_type": "code",
   "execution_count": 17,
   "metadata": {},
   "outputs": [],
   "source": [
    "#Employment and educational has a significant effect on income. We will be filling blank values with median income for \n",
    "# each employment category\n",
    "df['Income'] = df['Income'].fillna(df.groupby('EmploymentStatus')['Income'].transform('median')).astype(int)"
   ]
  },
  {
   "cell_type": "markdown",
   "metadata": {},
   "source": [
    "**Mean value to replace null in ```Months Since Last Claim``` column**"
   ]
  },
  {
   "cell_type": "code",
   "execution_count": 18,
   "metadata": {},
   "outputs": [],
   "source": [
    "df['Months Since Last Claim'].replace({np.nan: df['Months Since Last Claim'].mean()}, inplace =True)"
   ]
  },
  {
   "cell_type": "markdown",
   "metadata": {},
   "source": [
    "**Since variable ```Number of Open Complaints``` is skewed; median value will be used to replace missing value**"
   ]
  },
  {
   "cell_type": "code",
   "execution_count": 19,
   "metadata": {},
   "outputs": [],
   "source": [
    "df['Number of Open Complaints'].replace({np.nan: df['Number of Open Complaints'].median()}, inplace = True)"
   ]
  },
  {
   "cell_type": "markdown",
   "metadata": {},
   "source": [
    "**Missing values in ```Policy``` column**"
   ]
  },
  {
   "cell_type": "markdown",
   "metadata": {},
   "source": [
    "Since ```Policy``` share a relation with ```Policy Type``` column. Therefore for each ```Policy Type``` whichever ```Policy``` has the highes frequency we will replace it with it."
   ]
  },
  {
   "cell_type": "code",
   "execution_count": 20,
   "metadata": {},
   "outputs": [
    {
     "data": {
      "text/plain": [
       "Policy Type\n",
       "Corporate Auto    Corporate L3\n",
       "Personal Auto      Personal L3\n",
       "Special Auto        Special L2\n",
       "Name: Policy, dtype: object"
      ]
     },
     "execution_count": 20,
     "metadata": {},
     "output_type": "execute_result"
    }
   ],
   "source": [
    "dict = df.groupby(['Policy Type'])['Policy'].agg(pd.Series.mode)\n",
    "dict    "
   ]
  },
  {
   "cell_type": "code",
   "execution_count": 21,
   "metadata": {},
   "outputs": [
    {
     "data": {
      "text/plain": [
       "Personal L3     3799\n",
       "Personal L2     1880\n",
       "Personal L1     1109\n",
       "Corporate L3    1090\n",
       "Corporate L2     551\n",
       "Corporate L1     327\n",
       "Special L2       177\n",
       "Special L3       138\n",
       "Special L1        63\n",
       "Name: Policy, dtype: int64"
      ]
     },
     "execution_count": 21,
     "metadata": {},
     "output_type": "execute_result"
    }
   ],
   "source": [
    "df['Policy'] = df['Policy'].fillna(df['Policy Type'].apply(lambda x: dict.get(x)))\n",
    "df['Policy'].value_counts()"
   ]
  },
  {
   "cell_type": "markdown",
   "metadata": {},
   "source": [
    "**Missing values in the column ```Total Claim Amount```**"
   ]
  },
  {
   "cell_type": "code",
   "execution_count": 22,
   "metadata": {},
   "outputs": [
    {
     "data": {
      "text/plain": [
       "count    8252.000000\n",
       "mean      432.443791\n",
       "std       288.528395\n",
       "min         0.100000\n",
       "25%       268.470000\n",
       "50%       382.080000\n",
       "75%       547.200000\n",
       "max      2893.240000\n",
       "Name: Total Claim Amount, dtype: float64"
      ]
     },
     "execution_count": 22,
     "metadata": {},
     "output_type": "execute_result"
    }
   ],
   "source": [
    "df['Total Claim Amount'].describe()"
   ]
  },
  {
   "cell_type": "markdown",
   "metadata": {},
   "source": [
    "From the distribution of ```Total Claim Amount``` it looks like the values are skewed and it would be a wise choice to use **median** to replace the null values."
   ]
  },
  {
   "cell_type": "code",
   "execution_count": 23,
   "metadata": {},
   "outputs": [],
   "source": [
    "df['Total Claim Amount'].replace({np.nan: df['Total Claim Amount'].median()}, inplace = True)"
   ]
  },
  {
   "cell_type": "markdown",
   "metadata": {},
   "source": [
    "**Missing values in ```Vehicle Class```**"
   ]
  },
  {
   "cell_type": "code",
   "execution_count": 24,
   "metadata": {},
   "outputs": [
    {
     "data": {
      "text/plain": [
       "<matplotlib.axes._subplots.AxesSubplot at 0x151a063c4c8>"
      ]
     },
     "execution_count": 24,
     "metadata": {},
     "output_type": "execute_result"
    },
    {
     "data": {
      "image/png": "[encoded data removed]",
      "text/plain": [
       "<Figure size 432x288 with 1 Axes>"
      ]
     },
     "metadata": {
      "needs_background": "light"
     },
     "output_type": "display_data"
    }
   ],
   "source": [
    "sns.countplot(x = 'Vehicle Class', data = df)"
   ]
  },
  {
   "cell_type": "markdown",
   "metadata": {},
   "source": [
    "Most people prefer Four-Door Car over any other type of vehicle. Hence, we will be replace np.nan/Null withn **Four-Door Car**."
   ]
  },
  {
   "cell_type": "code",
   "execution_count": 25,
   "metadata": {},
   "outputs": [],
   "source": [
    "df['Vehicle Class'].replace({np.nan: 'Four-Door Car'}, inplace = True)"
   ]
  },
  {
   "cell_type": "markdown",
   "metadata": {},
   "source": [
    "### Outlier Check"
   ]
  },
  {
   "cell_type": "code",
   "execution_count": 26,
   "metadata": {},
   "outputs": [
    {
     "data": {
      "text/plain": [
       "count     9134.000000\n",
       "mean      8004.940475\n",
       "std       6870.967608\n",
       "min       1898.007675\n",
       "25%       3994.251794\n",
       "50%       5780.182197\n",
       "75%       8962.167041\n",
       "max      83325.381190\n",
       "Name: Customer Lifetime Value, dtype: float64"
      ]
     },
     "execution_count": 26,
     "metadata": {},
     "output_type": "execute_result"
    }
   ],
   "source": [
    "df['Customer Lifetime Value'].describe()"
   ]
  },
  {
   "cell_type": "code",
   "execution_count": 27,
   "metadata": {},
   "outputs": [
    {
     "data": {
      "text/plain": [
       "<matplotlib.axes._subplots.AxesSubplot at 0x151a06cca08>"
      ]
     },
     "execution_count": 27,
     "metadata": {},
     "output_type": "execute_result"
    },
    {
     "data": {
      "image/png": "[encoded data removed]",
      "text/plain": [
       "<Figure size 432x288 with 1 Axes>"
      ]
     },
     "metadata": {
      "needs_background": "light"
     },
     "output_type": "display_data"
    }
   ],
   "source": [
    "sns.distplot(df['Customer Lifetime Value'])"
   ]
  },
  {
   "cell_type": "markdown",
   "metadata": {},
   "source": [
    "It is clear from plot and values from describe that the top values very far away from the mean. There for to make it normal we will remove top 1% of the data from the dataset"
   ]
  },
  {
   "cell_type": "code",
   "execution_count": 28,
   "metadata": {},
   "outputs": [
    {
     "data": {
      "text/html": [
       "<div>\n",
       "<style scoped>\n",
       "    .dataframe tbody tr th:only-of-type {\n",
       "        vertical-align: middle;\n",
       "    }\n",
       "\n",
       "    .dataframe tbody tr th {\n",
       "        vertical-align: top;\n",
       "    }\n",
       "\n",
       "    .dataframe thead th {\n",
       "        text-align: right;\n",
       "    }\n",
       "</style>\n",
       "<table border=\"1\" class=\"dataframe\">\n",
       "  <thead>\n",
       "    <tr style=\"text-align: right;\">\n",
       "      <th></th>\n",
       "      <th>Customer Lifetime Value</th>\n",
       "      <th>Income</th>\n",
       "      <th>Monthly Premium Auto</th>\n",
       "      <th>Months Since Last Claim</th>\n",
       "      <th>Months Since Policy Inception</th>\n",
       "      <th>Number of Open Complaints</th>\n",
       "      <th>Number of Policies</th>\n",
       "      <th>Total Claim Amount</th>\n",
       "    </tr>\n",
       "  </thead>\n",
       "  <tbody>\n",
       "    <tr>\n",
       "      <td>count</td>\n",
       "      <td>9042.000000</td>\n",
       "      <td>9042.00000</td>\n",
       "      <td>9042.000000</td>\n",
       "      <td>9042.000000</td>\n",
       "      <td>9042.000000</td>\n",
       "      <td>9042.000000</td>\n",
       "      <td>9042.000000</td>\n",
       "      <td>9042.000000</td>\n",
       "    </tr>\n",
       "    <tr>\n",
       "      <td>mean</td>\n",
       "      <td>7627.389068</td>\n",
       "      <td>37502.50188</td>\n",
       "      <td>92.628511</td>\n",
       "      <td>15.096290</td>\n",
       "      <td>47.970029</td>\n",
       "      <td>0.344835</td>\n",
       "      <td>2.976001</td>\n",
       "      <td>424.804266</td>\n",
       "    </tr>\n",
       "    <tr>\n",
       "      <td>std</td>\n",
       "      <td>5708.440930</td>\n",
       "      <td>29718.48485</td>\n",
       "      <td>33.770983</td>\n",
       "      <td>9.510452</td>\n",
       "      <td>27.916222</td>\n",
       "      <td>0.869470</td>\n",
       "      <td>2.400314</td>\n",
       "      <td>270.737637</td>\n",
       "    </tr>\n",
       "    <tr>\n",
       "      <td>min</td>\n",
       "      <td>1898.007675</td>\n",
       "      <td>0.00000</td>\n",
       "      <td>61.000000</td>\n",
       "      <td>0.000000</td>\n",
       "      <td>0.000000</td>\n",
       "      <td>0.000000</td>\n",
       "      <td>1.000000</td>\n",
       "      <td>0.100000</td>\n",
       "    </tr>\n",
       "    <tr>\n",
       "      <td>25%</td>\n",
       "      <td>3964.751299</td>\n",
       "      <td>0.00000</td>\n",
       "      <td>68.000000</td>\n",
       "      <td>7.000000</td>\n",
       "      <td>24.000000</td>\n",
       "      <td>0.000000</td>\n",
       "      <td>1.000000</td>\n",
       "      <td>292.800000</td>\n",
       "    </tr>\n",
       "    <tr>\n",
       "      <td>50%</td>\n",
       "      <td>5741.711754</td>\n",
       "      <td>35482.00000</td>\n",
       "      <td>82.000000</td>\n",
       "      <td>15.106079</td>\n",
       "      <td>48.000000</td>\n",
       "      <td>0.000000</td>\n",
       "      <td>2.000000</td>\n",
       "      <td>382.080000</td>\n",
       "    </tr>\n",
       "    <tr>\n",
       "      <td>75%</td>\n",
       "      <td>8837.897887</td>\n",
       "      <td>58836.25000</td>\n",
       "      <td>109.000000</td>\n",
       "      <td>22.000000</td>\n",
       "      <td>71.000000</td>\n",
       "      <td>0.000000</td>\n",
       "      <td>4.000000</td>\n",
       "      <td>525.600000</td>\n",
       "    </tr>\n",
       "    <tr>\n",
       "      <td>max</td>\n",
       "      <td>35944.710480</td>\n",
       "      <td>99981.00000</td>\n",
       "      <td>298.000000</td>\n",
       "      <td>35.000000</td>\n",
       "      <td>99.000000</td>\n",
       "      <td>5.000000</td>\n",
       "      <td>9.000000</td>\n",
       "      <td>2893.240000</td>\n",
       "    </tr>\n",
       "  </tbody>\n",
       "</table>\n",
       "</div>"
      ],
      "text/plain": [
       "       Customer Lifetime Value       Income  Monthly Premium Auto  \\\n",
       "count              9042.000000   9042.00000           9042.000000   \n",
       "mean               7627.389068  37502.50188             92.628511   \n",
       "std                5708.440930  29718.48485             33.770983   \n",
       "min                1898.007675      0.00000             61.000000   \n",
       "25%                3964.751299      0.00000             68.000000   \n",
       "50%                5741.711754  35482.00000             82.000000   \n",
       "75%                8837.897887  58836.25000            109.000000   \n",
       "max               35944.710480  99981.00000            298.000000   \n",
       "\n",
       "       Months Since Last Claim  Months Since Policy Inception  \\\n",
       "count              9042.000000                    9042.000000   \n",
       "mean                 15.096290                      47.970029   \n",
       "std                   9.510452                      27.916222   \n",
       "min                   0.000000                       0.000000   \n",
       "25%                   7.000000                      24.000000   \n",
       "50%                  15.106079                      48.000000   \n",
       "75%                  22.000000                      71.000000   \n",
       "max                  35.000000                      99.000000   \n",
       "\n",
       "       Number of Open Complaints  Number of Policies  Total Claim Amount  \n",
       "count                9042.000000         9042.000000         9042.000000  \n",
       "mean                    0.344835            2.976001          424.804266  \n",
       "std                     0.869470            2.400314          270.737637  \n",
       "min                     0.000000            1.000000            0.100000  \n",
       "25%                     0.000000            1.000000          292.800000  \n",
       "50%                     0.000000            2.000000          382.080000  \n",
       "75%                     0.000000            4.000000          525.600000  \n",
       "max                     5.000000            9.000000         2893.240000  "
      ]
     },
     "execution_count": 28,
     "metadata": {},
     "output_type": "execute_result"
    }
   ],
   "source": [
    "q = df['Customer Lifetime Value'].quantile(.99)\n",
    "df = df[df['Customer Lifetime Value']<q]\n",
    "df.describe()"
   ]
  },
  {
   "cell_type": "code",
   "execution_count": 29,
   "metadata": {},
   "outputs": [
    {
     "data": {
      "text/plain": [
       "<matplotlib.axes._subplots.AxesSubplot at 0x151a076cc08>"
      ]
     },
     "execution_count": 29,
     "metadata": {},
     "output_type": "execute_result"
    },
    {
     "data": {
      "image/png": "[encoded data removed]",
      "text/plain": [
       "<Figure size 432x288 with 1 Axes>"
      ]
     },
     "metadata": {
      "needs_background": "light"
     },
     "output_type": "display_data"
    }
   ],
   "source": [
    "sns.distplot(df['Customer Lifetime Value'])"
   ]
  },
  {
   "cell_type": "markdown",
   "metadata": {},
   "source": [
    "Now the values looks much more spread out compared to the earlier plot."
   ]
  },
  {
   "cell_type": "markdown",
   "metadata": {},
   "source": [
    "## Preprocessing"
   ]
  },
  {
   "cell_type": "markdown",
   "metadata": {},
   "source": [
    "**For the following features we will create one-hot vector**:\n",
    "- State\n",
    "- Coverage\n",
    "- EmploymentStatus\n",
    "- Location Code\n",
    "- Marital Status\n",
    "- Policy Type\n",
    "- Policy\n",
    "- Renew Offer Type\n",
    "- Sales Channel\n",
    "- Vehicle Class\n",
    "- Vehicle Size\n",
    "\n",
    "**For the following features we will map the values or order them:**\n",
    "- Gender\n",
    "- Education"
   ]
  },
  {
   "cell_type": "markdown",
   "metadata": {},
   "source": [
    "### One Hot Vectors and Dropping Base Variable"
   ]
  },
  {
   "cell_type": "code",
   "execution_count": 30,
   "metadata": {},
   "outputs": [
    {
     "data": {
      "text/html": [
       "<div>\n",
       "<style scoped>\n",
       "    .dataframe tbody tr th:only-of-type {\n",
       "        vertical-align: middle;\n",
       "    }\n",
       "\n",
       "    .dataframe tbody tr th {\n",
       "        vertical-align: top;\n",
       "    }\n",
       "\n",
       "    .dataframe thead th {\n",
       "        text-align: right;\n",
       "    }\n",
       "</style>\n",
       "<table border=\"1\" class=\"dataframe\">\n",
       "  <thead>\n",
       "    <tr style=\"text-align: right;\">\n",
       "      <th></th>\n",
       "      <th>State</th>\n",
       "      <th>Customer Lifetime Value</th>\n",
       "      <th>Coverage</th>\n",
       "      <th>Education</th>\n",
       "      <th>EmploymentStatus</th>\n",
       "      <th>Gender</th>\n",
       "      <th>Income</th>\n",
       "      <th>Location Code</th>\n",
       "      <th>Marital Status</th>\n",
       "      <th>Monthly Premium Auto</th>\n",
       "      <th>...</th>\n",
       "      <th>Sales Channel_Web</th>\n",
       "      <th>Vehicle Class_Four-Door Car</th>\n",
       "      <th>Vehicle Class_Luxury Car</th>\n",
       "      <th>Vehicle Class_Luxury SUV</th>\n",
       "      <th>Vehicle Class_SUV</th>\n",
       "      <th>Vehicle Class_Sports Car</th>\n",
       "      <th>Vehicle Class_Two-Door Car</th>\n",
       "      <th>Vehicle Size_Large</th>\n",
       "      <th>Vehicle Size_Medsize</th>\n",
       "      <th>Vehicle Size_Small</th>\n",
       "    </tr>\n",
       "  </thead>\n",
       "  <tbody>\n",
       "    <tr>\n",
       "      <td>0</td>\n",
       "      <td>Washington</td>\n",
       "      <td>2763.519279</td>\n",
       "      <td>Basic</td>\n",
       "      <td>Bachelor</td>\n",
       "      <td>Employed</td>\n",
       "      <td>F</td>\n",
       "      <td>56274</td>\n",
       "      <td>Suburban</td>\n",
       "      <td>Married</td>\n",
       "      <td>69</td>\n",
       "      <td>...</td>\n",
       "      <td>0</td>\n",
       "      <td>0</td>\n",
       "      <td>0</td>\n",
       "      <td>0</td>\n",
       "      <td>0</td>\n",
       "      <td>0</td>\n",
       "      <td>1</td>\n",
       "      <td>0</td>\n",
       "      <td>1</td>\n",
       "      <td>0</td>\n",
       "    </tr>\n",
       "    <tr>\n",
       "      <td>1</td>\n",
       "      <td>Arizona</td>\n",
       "      <td>6979.535903</td>\n",
       "      <td>Extended</td>\n",
       "      <td>Bachelor</td>\n",
       "      <td>Unemployed</td>\n",
       "      <td>F</td>\n",
       "      <td>0</td>\n",
       "      <td>Suburban</td>\n",
       "      <td>Single</td>\n",
       "      <td>94</td>\n",
       "      <td>...</td>\n",
       "      <td>0</td>\n",
       "      <td>1</td>\n",
       "      <td>0</td>\n",
       "      <td>0</td>\n",
       "      <td>0</td>\n",
       "      <td>0</td>\n",
       "      <td>0</td>\n",
       "      <td>0</td>\n",
       "      <td>1</td>\n",
       "      <td>0</td>\n",
       "    </tr>\n",
       "    <tr>\n",
       "      <td>2</td>\n",
       "      <td>Nevada</td>\n",
       "      <td>12887.431650</td>\n",
       "      <td>Premium</td>\n",
       "      <td>Bachelor</td>\n",
       "      <td>Employed</td>\n",
       "      <td>F</td>\n",
       "      <td>48767</td>\n",
       "      <td>Suburban</td>\n",
       "      <td>Married</td>\n",
       "      <td>108</td>\n",
       "      <td>...</td>\n",
       "      <td>0</td>\n",
       "      <td>0</td>\n",
       "      <td>0</td>\n",
       "      <td>0</td>\n",
       "      <td>0</td>\n",
       "      <td>0</td>\n",
       "      <td>1</td>\n",
       "      <td>0</td>\n",
       "      <td>1</td>\n",
       "      <td>0</td>\n",
       "    </tr>\n",
       "    <tr>\n",
       "      <td>3</td>\n",
       "      <td>California</td>\n",
       "      <td>7645.861827</td>\n",
       "      <td>Basic</td>\n",
       "      <td>Bachelor</td>\n",
       "      <td>Unemployed</td>\n",
       "      <td>F</td>\n",
       "      <td>0</td>\n",
       "      <td>Suburban</td>\n",
       "      <td>Married</td>\n",
       "      <td>106</td>\n",
       "      <td>...</td>\n",
       "      <td>0</td>\n",
       "      <td>0</td>\n",
       "      <td>0</td>\n",
       "      <td>0</td>\n",
       "      <td>1</td>\n",
       "      <td>0</td>\n",
       "      <td>0</td>\n",
       "      <td>0</td>\n",
       "      <td>1</td>\n",
       "      <td>0</td>\n",
       "    </tr>\n",
       "    <tr>\n",
       "      <td>4</td>\n",
       "      <td>Washington</td>\n",
       "      <td>2813.692575</td>\n",
       "      <td>Basic</td>\n",
       "      <td>Bachelor</td>\n",
       "      <td>Employed</td>\n",
       "      <td>M</td>\n",
       "      <td>43836</td>\n",
       "      <td>Rural</td>\n",
       "      <td>Single</td>\n",
       "      <td>73</td>\n",
       "      <td>...</td>\n",
       "      <td>0</td>\n",
       "      <td>1</td>\n",
       "      <td>0</td>\n",
       "      <td>0</td>\n",
       "      <td>0</td>\n",
       "      <td>0</td>\n",
       "      <td>0</td>\n",
       "      <td>0</td>\n",
       "      <td>1</td>\n",
       "      <td>0</td>\n",
       "    </tr>\n",
       "  </tbody>\n",
       "</table>\n",
       "<p>5 rows × 69 columns</p>\n",
       "</div>"
      ],
      "text/plain": [
       "        State  Customer Lifetime Value  Coverage Education EmploymentStatus  \\\n",
       "0  Washington              2763.519279     Basic  Bachelor         Employed   \n",
       "1     Arizona              6979.535903  Extended  Bachelor       Unemployed   \n",
       "2      Nevada             12887.431650   Premium  Bachelor         Employed   \n",
       "3  California              7645.861827     Basic  Bachelor       Unemployed   \n",
       "4  Washington              2813.692575     Basic  Bachelor         Employed   \n",
       "\n",
       "  Gender  Income Location Code Marital Status  Monthly Premium Auto  ...  \\\n",
       "0      F   56274      Suburban        Married                    69  ...   \n",
       "1      F       0      Suburban         Single                    94  ...   \n",
       "2      F   48767      Suburban        Married                   108  ...   \n",
       "3      F       0      Suburban        Married                   106  ...   \n",
       "4      M   43836         Rural         Single                    73  ...   \n",
       "\n",
       "   Sales Channel_Web  Vehicle Class_Four-Door Car  Vehicle Class_Luxury Car  \\\n",
       "0                  0                            0                         0   \n",
       "1                  0                            1                         0   \n",
       "2                  0                            0                         0   \n",
       "3                  0                            0                         0   \n",
       "4                  0                            1                         0   \n",
       "\n",
       "   Vehicle Class_Luxury SUV Vehicle Class_SUV Vehicle Class_Sports Car  \\\n",
       "0                         0                 0                        0   \n",
       "1                         0                 0                        0   \n",
       "2                         0                 0                        0   \n",
       "3                         0                 1                        0   \n",
       "4                         0                 0                        0   \n",
       "\n",
       "  Vehicle Class_Two-Door Car Vehicle Size_Large  Vehicle Size_Medsize  \\\n",
       "0                          1                  0                     1   \n",
       "1                          0                  0                     1   \n",
       "2                          1                  0                     1   \n",
       "3                          0                  0                     1   \n",
       "4                          0                  0                     1   \n",
       "\n",
       "  Vehicle Size_Small  \n",
       "0                  0  \n",
       "1                  0  \n",
       "2                  0  \n",
       "3                  0  \n",
       "4                  0  \n",
       "\n",
       "[5 rows x 69 columns]"
      ]
     },
     "execution_count": 30,
     "metadata": {},
     "output_type": "execute_result"
    }
   ],
   "source": [
    "dummy = ['State', 'Coverage', 'EmploymentStatus', 'Location Code', 'Marital Status', 'Policy Type',\n",
    "         'Policy', 'Renew Offer Type', 'Sales Channel', 'Vehicle Class', 'Vehicle Size']\n",
    "\n",
    "for d in dummy:   \n",
    "    cols = pd.get_dummies(df[d], prefix= d)\n",
    "    df[cols.columns] = cols\n",
    "df.head(5)"
   ]
  },
  {
   "cell_type": "code",
   "execution_count": 31,
   "metadata": {},
   "outputs": [],
   "source": [
    "for d in dummy:\n",
    "    df.drop(d, axis=1, inplace=True)"
   ]
  },
  {
   "cell_type": "markdown",
   "metadata": {},
   "source": [
    "### Mapping Values:"
   ]
  },
  {
   "cell_type": "code",
   "execution_count": 32,
   "metadata": {},
   "outputs": [
    {
     "data": {
      "text/plain": [
       "Bachelor                3436\n",
       "College                 2367\n",
       "High School or Below    2296\n",
       "Master                   636\n",
       "Doctor                   307\n",
       "Name: Education, dtype: int64"
      ]
     },
     "execution_count": 32,
     "metadata": {},
     "output_type": "execute_result"
    }
   ],
   "source": [
    "df['Education'].value_counts()"
   ]
  },
  {
   "cell_type": "code",
   "execution_count": 33,
   "metadata": {},
   "outputs": [],
   "source": [
    "df['Gender'].replace({\"F\": 1, \"M\": 0}, inplace = True)\n",
    "df['Education'].replace({\"High School or Below\": 0, \"College\": 1, \"Bachelor\": 2, \"Master\": 3, \"Doctor\": 4}, \n",
    "                            inplace = True)"
   ]
  },
  {
   "cell_type": "code",
   "execution_count": 61,
   "metadata": {},
   "outputs": [
    {
     "name": "stdout",
     "output_type": "stream",
     "text": [
      "<class 'pandas.core.frame.DataFrame'>\n",
      "Int64Index: 9042 entries, 0 to 9133\n",
      "Data columns (total 58 columns):\n",
      "Customer Lifetime Value           9042 non-null float64\n",
      "Education                         9042 non-null int64\n",
      "Gender                            9042 non-null int64\n",
      "Income                            9042 non-null int32\n",
      "Monthly Premium Auto              9042 non-null int64\n",
      "Months Since Last Claim           9042 non-null float64\n",
      "Months Since Policy Inception     9042 non-null int64\n",
      "Number of Open Complaints         9042 non-null float64\n",
      "Number of Policies                9042 non-null int64\n",
      "Total Claim Amount                9042 non-null float64\n",
      "State_Arizona                     9042 non-null uint8\n",
      "State_California                  9042 non-null uint8\n",
      "State_Nevada                      9042 non-null uint8\n",
      "State_Oregon                      9042 non-null uint8\n",
      "State_Washington                  9042 non-null uint8\n",
      "Coverage_Basic                    9042 non-null uint8\n",
      "Coverage_Extended                 9042 non-null uint8\n",
      "Coverage_Premium                  9042 non-null uint8\n",
      "EmploymentStatus_Disabled         9042 non-null uint8\n",
      "EmploymentStatus_Employed         9042 non-null uint8\n",
      "EmploymentStatus_Medical Leave    9042 non-null uint8\n",
      "EmploymentStatus_Retired          9042 non-null uint8\n",
      "EmploymentStatus_Unemployed       9042 non-null uint8\n",
      "Location Code_Rural               9042 non-null uint8\n",
      "Location Code_Suburban            9042 non-null uint8\n",
      "Location Code_Urban               9042 non-null uint8\n",
      "Marital Status_Divorced           9042 non-null uint8\n",
      "Marital Status_Married            9042 non-null uint8\n",
      "Marital Status_Single             9042 non-null uint8\n",
      "Policy Type_Corporate Auto        9042 non-null uint8\n",
      "Policy Type_Personal Auto         9042 non-null uint8\n",
      "Policy Type_Special Auto          9042 non-null uint8\n",
      "Policy_Corporate L1               9042 non-null uint8\n",
      "Policy_Corporate L2               9042 non-null uint8\n",
      "Policy_Corporate L3               9042 non-null uint8\n",
      "Policy_Personal L1                9042 non-null uint8\n",
      "Policy_Personal L2                9042 non-null uint8\n",
      "Policy_Personal L3                9042 non-null uint8\n",
      "Policy_Special L1                 9042 non-null uint8\n",
      "Policy_Special L2                 9042 non-null uint8\n",
      "Policy_Special L3                 9042 non-null uint8\n",
      "Renew Offer Type_Offer1           9042 non-null uint8\n",
      "Renew Offer Type_Offer2           9042 non-null uint8\n",
      "Renew Offer Type_Offer3           9042 non-null uint8\n",
      "Renew Offer Type_Offer4           9042 non-null uint8\n",
      "Sales Channel_Agent               9042 non-null uint8\n",
      "Sales Channel_Branch              9042 non-null uint8\n",
      "Sales Channel_Call Center         9042 non-null uint8\n",
      "Sales Channel_Web                 9042 non-null uint8\n",
      "Vehicle Class_Four-Door Car       9042 non-null uint8\n",
      "Vehicle Class_Luxury Car          9042 non-null uint8\n",
      "Vehicle Class_Luxury SUV          9042 non-null uint8\n",
      "Vehicle Class_SUV                 9042 non-null uint8\n",
      "Vehicle Class_Sports Car          9042 non-null uint8\n",
      "Vehicle Class_Two-Door Car        9042 non-null uint8\n",
      "Vehicle Size_Large                9042 non-null uint8\n",
      "Vehicle Size_Medsize              9042 non-null uint8\n",
      "Vehicle Size_Small                9042 non-null uint8\n",
      "dtypes: float64(4), int32(1), int64(5), uint8(48)\n",
      "memory usage: 1.1 MB\n"
     ]
    }
   ],
   "source": [
    "df.info()"
   ]
  },
  {
   "cell_type": "markdown",
   "metadata": {},
   "source": [
    "#### X and Y variable and Train-Test Split\n",
    "*Note: random_state = 0 will be used*"
   ]
  },
  {
   "cell_type": "code",
   "execution_count": 62,
   "metadata": {},
   "outputs": [],
   "source": [
    "X = df.drop('Customer Lifetime Value', axis=1)\n",
    "y = df['Customer Lifetime Value']"
   ]
  },
  {
   "cell_type": "code",
   "execution_count": 63,
   "metadata": {},
   "outputs": [],
   "source": [
    "from sklearn.model_selection import train_test_split\n",
    "from sklearn.preprocessing import MinMaxScaler\n",
    "\n",
    "X_train, X_test, y_train, y_test = train_test_split(X, y,random_state=0, test_size = 0.30) #Splitting the df\n",
    "\n",
    "X_train_val, X_val, y_train_val, y_val = train_test_split(X_train, y_train, test_size = 0.2) #Regressor for which GridSearch is no applicable\n",
    "scaler = MinMaxScaler()\n",
    "\n",
    "X_train = scaler.fit_transform(X_train)\n",
    "X_test = scaler.transform(X_test)"
   ]
  },
  {
   "cell_type": "markdown",
   "metadata": {},
   "source": [
    "For algorithms with no hyper-parameters we will be using train_val and val to train and test"
   ]
  },
  {
   "cell_type": "markdown",
   "metadata": {},
   "source": [
    "## LinearRegression Model"
   ]
  },
  {
   "cell_type": "code",
   "execution_count": 37,
   "metadata": {},
   "outputs": [
    {
     "name": "stdout",
     "output_type": "stream",
     "text": [
      "Train Score:  0.14896390321509956\n",
      "Validation Score:  0.12393199015657853\n"
     ]
    }
   ],
   "source": [
    "from sklearn.linear_model import LinearRegression\n",
    "from sklearn.model_selection import KFold\n",
    "\n",
    "\n",
    "lreg = LinearRegression()\n",
    "model = lreg.fit(X_train_val, y_train_val)\n",
    "print('Train Score: ', lreg.score(X_train_val, y_train_val))\n",
    "print('Validation Score: ', lreg.score(X_val, y_val))"
   ]
  },
  {
   "cell_type": "markdown",
   "metadata": {},
   "source": [
    "## Ridge with Grid Search"
   ]
  },
  {
   "cell_type": "code",
   "execution_count": 38,
   "metadata": {},
   "outputs": [
    {
     "name": "stdout",
     "output_type": "stream",
     "text": [
      "{'alpha': 0.1}\n",
      "0.13008802570568195\n",
      "<function _passthrough_scorer at 0x00000151A0FD2288>\n"
     ]
    }
   ],
   "source": [
    "from sklearn.linear_model import Ridge\n",
    "from sklearn.model_selection import GridSearchCV\n",
    "\n",
    "param_grid = {'alpha': [0.001, 0.01, 0.1]}\n",
    "\n",
    "ridge_gs = GridSearchCV(Ridge(), param_grid, cv = 5,return_train_score=1)\n",
    "ridge_gs.fit(X_train,  y_train)\n",
    "print(ridge_gs.best_params_)\n",
    "print(ridge_gs.best_score_)\n",
    "print(ridge_gs.scorer_)"
   ]
  },
  {
   "cell_type": "markdown",
   "metadata": {},
   "source": [
    "## Lasso with GridSearchCV"
   ]
  },
  {
   "cell_type": "code",
   "execution_count": 39,
   "metadata": {
    "scrolled": false
   },
   "outputs": [
    {
     "name": "stderr",
     "output_type": "stream",
     "text": [
      "C:\\Users\\paawa\\Anaconda3\\lib\\site-packages\\sklearn\\linear_model\\coordinate_descent.py:475: ConvergenceWarning: Objective did not converge. You might want to increase the number of iterations. Duality gap: 5886031969.543213, tolerance: 16266568.36205727\n",
      "  positive)\n",
      "C:\\Users\\paawa\\Anaconda3\\lib\\site-packages\\sklearn\\linear_model\\coordinate_descent.py:475: ConvergenceWarning: Objective did not converge. You might want to increase the number of iterations. Duality gap: 11612667383.094254, tolerance: 16684132.982697554\n",
      "  positive)\n",
      "C:\\Users\\paawa\\Anaconda3\\lib\\site-packages\\sklearn\\linear_model\\coordinate_descent.py:475: ConvergenceWarning: Objective did not converge. You might want to increase the number of iterations. Duality gap: 5820793610.771606, tolerance: 16347697.520777967\n",
      "  positive)\n",
      "C:\\Users\\paawa\\Anaconda3\\lib\\site-packages\\sklearn\\linear_model\\coordinate_descent.py:475: ConvergenceWarning: Objective did not converge. You might want to increase the number of iterations. Duality gap: 25986325273.90229, tolerance: 16299597.546208726\n",
      "  positive)\n",
      "C:\\Users\\paawa\\Anaconda3\\lib\\site-packages\\sklearn\\linear_model\\coordinate_descent.py:475: ConvergenceWarning: Objective did not converge. You might want to increase the number of iterations. Duality gap: 14248435465.912231, tolerance: 16587944.05014742\n",
      "  positive)\n",
      "C:\\Users\\paawa\\Anaconda3\\lib\\site-packages\\sklearn\\linear_model\\coordinate_descent.py:475: ConvergenceWarning: Objective did not converge. You might want to increase the number of iterations. Duality gap: 5886084223.269241, tolerance: 16266568.36205727\n",
      "  positive)\n",
      "C:\\Users\\paawa\\Anaconda3\\lib\\site-packages\\sklearn\\linear_model\\coordinate_descent.py:475: ConvergenceWarning: Objective did not converge. You might want to increase the number of iterations. Duality gap: 11612738935.27658, tolerance: 16684132.982697554\n",
      "  positive)\n",
      "C:\\Users\\paawa\\Anaconda3\\lib\\site-packages\\sklearn\\linear_model\\coordinate_descent.py:475: ConvergenceWarning: Objective did not converge. You might want to increase the number of iterations. Duality gap: 5820843373.561829, tolerance: 16347697.520777967\n",
      "  positive)\n",
      "C:\\Users\\paawa\\Anaconda3\\lib\\site-packages\\sklearn\\linear_model\\coordinate_descent.py:475: ConvergenceWarning: Objective did not converge. You might want to increase the number of iterations. Duality gap: 25986425863.62406, tolerance: 16299597.546208726\n",
      "  positive)\n",
      "C:\\Users\\paawa\\Anaconda3\\lib\\site-packages\\sklearn\\linear_model\\coordinate_descent.py:475: ConvergenceWarning: Objective did not converge. You might want to increase the number of iterations. Duality gap: 14248511211.249817, tolerance: 16587944.05014742\n",
      "  positive)\n",
      "C:\\Users\\paawa\\Anaconda3\\lib\\site-packages\\sklearn\\linear_model\\coordinate_descent.py:475: ConvergenceWarning: Objective did not converge. You might want to increase the number of iterations. Duality gap: 5892342950.353195, tolerance: 16266568.36205727\n",
      "  positive)\n",
      "C:\\Users\\paawa\\Anaconda3\\lib\\site-packages\\sklearn\\linear_model\\coordinate_descent.py:475: ConvergenceWarning: Objective did not converge. You might want to increase the number of iterations. Duality gap: 7874928358.312256, tolerance: 16684132.982697554\n",
      "  positive)\n",
      "C:\\Users\\paawa\\Anaconda3\\lib\\site-packages\\sklearn\\linear_model\\coordinate_descent.py:475: ConvergenceWarning: Objective did not converge. You might want to increase the number of iterations. Duality gap: 5947364300.924103, tolerance: 16347697.520777967\n",
      "  positive)\n",
      "C:\\Users\\paawa\\Anaconda3\\lib\\site-packages\\sklearn\\linear_model\\coordinate_descent.py:475: ConvergenceWarning: Objective did not converge. You might want to increase the number of iterations. Duality gap: 5878850591.788391, tolerance: 16299597.546208726\n",
      "  positive)\n",
      "C:\\Users\\paawa\\Anaconda3\\lib\\site-packages\\sklearn\\linear_model\\coordinate_descent.py:475: ConvergenceWarning: Objective did not converge. You might want to increase the number of iterations. Duality gap: 6063807239.694397, tolerance: 16587944.05014742\n",
      "  positive)\n"
     ]
    },
    {
     "name": "stdout",
     "output_type": "stream",
     "text": [
      "{'alpha': 10}\n",
      "0.13275019323297668\n",
      "<function _passthrough_scorer at 0x00000151A0FD2288>\n"
     ]
    }
   ],
   "source": [
    "from sklearn.linear_model import Lasso\n",
    "from sklearn.model_selection import GridSearchCV\n",
    "\n",
    "param_grid = {'alpha': [0.00001,0.001, 0.01, 0.1, 1, 10, 100, 1000, 10000, 100000]}\n",
    "\n",
    "lasso_gs = GridSearchCV(Lasso(), param_grid, cv = 5,return_train_score=1)\n",
    "lasso_gs.fit(X_train,  y_train)\n",
    "print(lasso_gs.best_params_)\n",
    "print(lasso_gs.best_score_)\n",
    "print(lasso_gs.scorer_)"
   ]
  },
  {
   "cell_type": "markdown",
   "metadata": {},
   "source": [
    "## LinearRegression with Polynomial Features"
   ]
  },
  {
   "cell_type": "code",
   "execution_count": 40,
   "metadata": {},
   "outputs": [],
   "source": [
    "from sklearn.linear_model import LinearRegression\n",
    "from sklearn.preprocessing import PolynomialFeatures\n",
    "from sklearn.model_selection import KFold\n",
    "from sklearn.model_selection import cross_val_score\n",
    "\n",
    "poly = PolynomialFeatures(degree = 2)\n",
    "X_train_poly = poly.fit_transform(X_train_val)\n",
    "X_test_poly = poly.transform(X_val)"
   ]
  },
  {
   "cell_type": "code",
   "execution_count": 41,
   "metadata": {},
   "outputs": [
    {
     "name": "stdout",
     "output_type": "stream",
     "text": [
      "Train Score: \n",
      " 0.40556022587583973\n",
      "Validation Score: \n",
      " -0.007006659538145055\n"
     ]
    }
   ],
   "source": [
    "poly_reg = LinearRegression()\n",
    "poly_reg.fit(X_train_poly, y_train_val)\n",
    "\n",
    "print('Train Score: \\n',poly_reg.score(X_train_poly, y_train_val))\n",
    "print('Validation Score: \\n', poly_reg.score(X_test_poly, y_val)) "
   ]
  },
  {
   "cell_type": "markdown",
   "metadata": {},
   "source": [
    "### Simple SVM or LinearSVM"
   ]
  },
  {
   "cell_type": "code",
   "execution_count": 42,
   "metadata": {},
   "outputs": [
    {
     "name": "stdout",
     "output_type": "stream",
     "text": [
      "{'C': 10, 'epsilon': 1}\n",
      "-0.01365926832944473\n",
      "<function _passthrough_scorer at 0x00000151A0FD2288>\n"
     ]
    }
   ],
   "source": [
    "from sklearn.svm import LinearSVR\n",
    "\n",
    "param_grid = {'C': [0.001, 0.01, 0.1, 1, 10, 100],\n",
    "             'epsilon': [0.0001 ,0.001, 0.01, 0.1, 1]}\n",
    "\n",
    "linearSVR_gs = GridSearchCV(LinearSVR(), param_grid, cv=5, return_train_score=1)\n",
    "linearSVR_gs.fit(X_train,  y_train)\n",
    "print(linearSVR_gs.best_params_)\n",
    "print(linearSVR_gs.best_score_)\n",
    "print(linearSVR_gs.scorer_)"
   ]
  },
  {
   "cell_type": "markdown",
   "metadata": {},
   "source": [
    "### SVR With ```rbf```"
   ]
  },
  {
   "cell_type": "code",
   "execution_count": 43,
   "metadata": {},
   "outputs": [
    {
     "name": "stdout",
     "output_type": "stream",
     "text": [
      "{'C': 100, 'epsilon': 1, 'gamma': 0.1}\n",
      "0.004575433335914586\n",
      "<function _passthrough_scorer at 0x00000151A0FD2288>\n"
     ]
    }
   ],
   "source": [
    "from sklearn.svm import SVR\n",
    "from sklearn.model_selection import GridSearchCV\n",
    "\n",
    "param_grid = {'C': [0.001, 0.01, 0.1, 1, 10, 100], \n",
    "              'gamma' : [0.001, 0.01, 0.1, 1, 10, 100],\n",
    "             'epsilon': [0.01, 0.1, 1]}\n",
    "\n",
    "svr_rbf = GridSearchCV(SVR(kernel = 'rbf'), param_grid, cv = 5,return_train_score=1)\n",
    "svr_rbf.fit(X_train,  y_train)\n",
    "print(svr_rbf.best_params_)\n",
    "print(svr_rbf.best_score_)\n",
    "print(svr_rbf.scorer_)"
   ]
  },
  {
   "cell_type": "markdown",
   "metadata": {},
   "source": [
    "### SVR with ```poly```"
   ]
  },
  {
   "cell_type": "code",
   "execution_count": 44,
   "metadata": {},
   "outputs": [],
   "source": [
    "#SVR with kernel poly is computationaly costly process and it may take more than 15 hrs to give us \n",
    "#the results based on the dataset we are using\n",
    "#We will be using subset of the data with 1000 instances to select the best hyperparameters and then build the model\n",
    "\n",
    "df_sub = df.sample(frac = 0.15, random_state = 42)\n",
    "X_sub = df_sub.drop('Customer Lifetime Value', axis =1)\n",
    "y_sub = df_sub['Customer Lifetime Value']\n",
    "\n",
    "\n",
    "from sklearn.preprocessing import MinMaxScaler\n",
    "\n",
    "X_sub_train, X_sub_test, y_sub_train, y_sub_test = train_test_split(X_sub, y_sub,random_state=0, test_size = 0.3) #Splitting the df\n",
    "\n",
    "scaler = MinMaxScaler()\n",
    "\n",
    "X_sub_train = scaler.fit_transform(X_sub_train)\n",
    "X_sub_test = scaler.transform(X_sub_test)"
   ]
  },
  {
   "cell_type": "code",
   "execution_count": 45,
   "metadata": {},
   "outputs": [
    {
     "name": "stdout",
     "output_type": "stream",
     "text": [
      "{'C': 0.001, 'epsilon': 0.001, 'gamma': 10}\n",
      "-0.003219932889364501\n",
      "<function _passthrough_scorer at 0x00000151A0FD2288>\n"
     ]
    },
    {
     "name": "stderr",
     "output_type": "stream",
     "text": [
      "C:\\Users\\paawa\\Anaconda3\\lib\\site-packages\\sklearn\\model_selection\\_search.py:814: DeprecationWarning: The default of the `iid` parameter will change from True to False in version 0.22 and will be removed in 0.24. This will change numeric results when test-set sizes are unequal.\n",
      "  DeprecationWarning)\n"
     ]
    }
   ],
   "source": [
    "# Initial SVR_poly regression to get the best hyper-parameter\n",
    "\n",
    "param_grid = {'C': [0.001, 0.01, 0.1, 1, 10, 100], \n",
    "              'gamma' : [0.001, 0.01, 0.1, 1, 10, 100],\n",
    "             'epsilon': [0.001, 0.01, 0.1, 1]}\n",
    "\n",
    "svr_poly = GridSearchCV(SVR(kernel = 'poly'), param_grid, cv = 5,return_train_score=1)\n",
    "svr_poly.fit(X_sub_train,  y_sub_train)\n",
    "print(svr_poly.best_params_)\n",
    "print(svr_poly.best_score_)\n",
    "print(svr_poly.scorer_)"
   ]
  },
  {
   "cell_type": "markdown",
   "metadata": {},
   "source": [
    "**Hyper-parameter values: {C: 100, epsilon: 1, gamma: 0.1} turns out to be the best for validation set** \\\n",
    "**Therefore we will build a model with those parameters**"
   ]
  },
  {
   "cell_type": "code",
   "execution_count": 46,
   "metadata": {},
   "outputs": [
    {
     "name": "stdout",
     "output_type": "stream",
     "text": [
      "{'C': 0.001, 'epsilon': 0.001, 'gamma': 10}\n",
      "0.03050314622200572\n",
      "<function _passthrough_scorer at 0x00000151A0FD2288>\n"
     ]
    }
   ],
   "source": [
    "param_grid = {'C': [0.001], 'epsilon': [0.001], 'gamma': [10]}\n",
    "\n",
    "final_svr_poly = GridSearchCV(SVR(kernel = 'poly'), param_grid, cv = 5,return_train_score=1)\n",
    "final_svr_poly.fit(X_train,  y_train)\n",
    "print(final_svr_poly.best_params_)\n",
    "print(final_svr_poly.best_score_)\n",
    "print(final_svr_poly.scorer_)"
   ]
  },
  {
   "cell_type": "markdown",
   "metadata": {},
   "source": [
    "### SVR with ```linear``` Kernel"
   ]
  },
  {
   "cell_type": "code",
   "execution_count": 47,
   "metadata": {},
   "outputs": [
    {
     "name": "stdout",
     "output_type": "stream",
     "text": [
      "{'C': 10, 'epsilon': 1, 'gamma': 0.001}\n",
      "0.012394924404351512\n",
      "<function _passthrough_scorer at 0x00000151A0FD2288>\n"
     ]
    }
   ],
   "source": [
    "param_grid = {'C': [0.001, 0.01, 0.1, 1, 10, 100], \n",
    "              'gamma' : [0.001, 0.01, 0.1, 1, 10, 100],\n",
    "             'epsilon': [0.001, 0.01, 0.1, 1]}\n",
    "\n",
    "svr_linear = GridSearchCV(SVR(kernel = 'linear'), param_grid, cv = 5,return_train_score=1)\n",
    "svr_linear.fit(X_train,  y_train)\n",
    "print(svr_linear.best_params_)\n",
    "print(svr_linear.best_score_)\n",
    "print(svr_linear.scorer_)"
   ]
  },
  {
   "cell_type": "markdown",
   "metadata": {},
   "source": [
    "### Decision Tree Regressor"
   ]
  },
  {
   "cell_type": "code",
   "execution_count": 48,
   "metadata": {},
   "outputs": [
    {
     "name": "stdout",
     "output_type": "stream",
     "text": [
      "{'max_leaf_nodes': 10}\n",
      "0.6819060396809384\n",
      "<function _passthrough_scorer at 0x00000151A0FD2288>\n"
     ]
    }
   ],
   "source": [
    "from sklearn.tree import DecisionTreeRegressor\n",
    "\n",
    "param_grid = {'max_leaf_nodes': [2, 5, 10, 25, 50]}\n",
    "\n",
    "dtr_gs = GridSearchCV(DecisionTreeRegressor(random_state=0), param_grid, cv=5)\n",
    "\n",
    "dtr_gs.fit(X_train, y_train)\n",
    "\n",
    "print(dtr_gs.best_params_)\n",
    "print(dtr_gs.best_score_)\n",
    "print(dtr_gs.scorer_)"
   ]
  },
  {
   "cell_type": "markdown",
   "metadata": {},
   "source": [
    "### KnnRegressor with GridSearchCV"
   ]
  },
  {
   "cell_type": "code",
   "execution_count": 49,
   "metadata": {},
   "outputs": [
    {
     "name": "stdout",
     "output_type": "stream",
     "text": [
      "{'n_neighbors': 11, 'weights': 'distance'}\n",
      "0.05309732790890951\n",
      "<function _passthrough_scorer at 0x00000151A0FD2288>\n"
     ]
    }
   ],
   "source": [
    "from sklearn.neighbors import KNeighborsRegressor\n",
    "\n",
    "param_grid = {'n_neighbors': [1, 3, 5, 7, 9, 11], 'weights': ['uniform', 'distance']}\n",
    "\n",
    "knn_gs = GridSearchCV(KNeighborsRegressor(),param_grid, cv=5)\n",
    "knn_gs.fit(X_train, y_train)\n",
    "\n",
    "print(knn_gs.best_params_)\n",
    "print(knn_gs.best_score_)\n",
    "print(knn_gs.scorer_)"
   ]
  },
  {
   "cell_type": "markdown",
   "metadata": {},
   "source": [
    "### SGD Regressor "
   ]
  },
  {
   "cell_type": "code",
   "execution_count": 50,
   "metadata": {},
   "outputs": [
    {
     "name": "stdout",
     "output_type": "stream",
     "text": [
      "{'eta0': 0.0001, 'max_iter': 1000}\n",
      "0.12352222925661514\n",
      "<function _passthrough_scorer at 0x00000151A0FD2288>\n"
     ]
    }
   ],
   "source": [
    "from sklearn.linear_model import SGDRegressor\n",
    "\n",
    "param_grid = {'eta0': [0.0001, 0.001, 0.01, 0.1, 1, 10], 'max_iter': [1000, 5000, 10000, 50000, 100000]}\n",
    "sgd_gs = GridSearchCV(SGDRegressor(random_state= 0, learning_rate = 'constant'), param_grid, cv=5, return_train_score=1)\n",
    "sgd_gs.fit(X_train, y_train)\n",
    "print(sgd_gs.best_params_)\n",
    "print(sgd_gs.best_score_)\n",
    "print(sgd_gs.scorer_)"
   ]
  },
  {
   "cell_type": "markdown",
   "metadata": {},
   "source": [
    "## Results"
   ]
  },
  {
   "cell_type": "code",
   "execution_count": 51,
   "metadata": {},
   "outputs": [],
   "source": [
    "dict = {'Models': ['KnnRegressor', 'LinearRegression', 'Ridge', 'Lasso', 'PolynomialRegression', 'LinearSVR', 'SVR_rbf', 'SVR_poly', 'SVR_linear', 'DecisionTreeRegressor', 'SGDRegressor'],\n",
    "    'Mean Validation Score': [knn_gs.best_score_, lreg.score(X_val, y_val), ridge_gs.best_score_, lasso_gs.best_score_, poly_reg.score(X_test_poly, y_val),linearSVR_gs.best_score_,svr_rbf.best_score_, svr_poly.best_score_, svr_linear.best_score_, dtr_gs.best_score_, sgd_gs.best_score_]}"
   ]
  },
  {
   "cell_type": "code",
   "execution_count": 52,
   "metadata": {},
   "outputs": [
    {
     "data": {
      "text/html": [
       "<div>\n",
       "<style scoped>\n",
       "    .dataframe tbody tr th:only-of-type {\n",
       "        vertical-align: middle;\n",
       "    }\n",
       "\n",
       "    .dataframe tbody tr th {\n",
       "        vertical-align: top;\n",
       "    }\n",
       "\n",
       "    .dataframe thead th {\n",
       "        text-align: right;\n",
       "    }\n",
       "</style>\n",
       "<table border=\"1\" class=\"dataframe\">\n",
       "  <thead>\n",
       "    <tr style=\"text-align: right;\">\n",
       "      <th></th>\n",
       "      <th>Models</th>\n",
       "      <th>Mean Validation Score</th>\n",
       "    </tr>\n",
       "  </thead>\n",
       "  <tbody>\n",
       "    <tr>\n",
       "      <td>0</td>\n",
       "      <td>KnnRegressor</td>\n",
       "      <td>0.053097</td>\n",
       "    </tr>\n",
       "    <tr>\n",
       "      <td>1</td>\n",
       "      <td>LinearRegression</td>\n",
       "      <td>0.123932</td>\n",
       "    </tr>\n",
       "    <tr>\n",
       "      <td>2</td>\n",
       "      <td>Ridge</td>\n",
       "      <td>0.130088</td>\n",
       "    </tr>\n",
       "    <tr>\n",
       "      <td>3</td>\n",
       "      <td>Lasso</td>\n",
       "      <td>0.132750</td>\n",
       "    </tr>\n",
       "    <tr>\n",
       "      <td>4</td>\n",
       "      <td>PolynomialRegression</td>\n",
       "      <td>-0.007007</td>\n",
       "    </tr>\n",
       "    <tr>\n",
       "      <td>5</td>\n",
       "      <td>LinearSVR</td>\n",
       "      <td>-0.013659</td>\n",
       "    </tr>\n",
       "    <tr>\n",
       "      <td>6</td>\n",
       "      <td>SVR_rbf</td>\n",
       "      <td>0.004575</td>\n",
       "    </tr>\n",
       "    <tr>\n",
       "      <td>7</td>\n",
       "      <td>SVR_poly</td>\n",
       "      <td>-0.003220</td>\n",
       "    </tr>\n",
       "    <tr>\n",
       "      <td>8</td>\n",
       "      <td>SVR_linear</td>\n",
       "      <td>0.012395</td>\n",
       "    </tr>\n",
       "    <tr>\n",
       "      <td>9</td>\n",
       "      <td>DecisionTreeRegressor</td>\n",
       "      <td>0.681906</td>\n",
       "    </tr>\n",
       "    <tr>\n",
       "      <td>10</td>\n",
       "      <td>SGDRegressor</td>\n",
       "      <td>0.123522</td>\n",
       "    </tr>\n",
       "  </tbody>\n",
       "</table>\n",
       "</div>"
      ],
      "text/plain": [
       "                   Models  Mean Validation Score\n",
       "0            KnnRegressor               0.053097\n",
       "1        LinearRegression               0.123932\n",
       "2                   Ridge               0.130088\n",
       "3                   Lasso               0.132750\n",
       "4    PolynomialRegression              -0.007007\n",
       "5               LinearSVR              -0.013659\n",
       "6                 SVR_rbf               0.004575\n",
       "7                SVR_poly              -0.003220\n",
       "8              SVR_linear               0.012395\n",
       "9   DecisionTreeRegressor               0.681906\n",
       "10           SGDRegressor               0.123522"
      ]
     },
     "execution_count": 52,
     "metadata": {},
     "output_type": "execute_result"
    }
   ],
   "source": [
    "regression_result = pd.DataFrame(dict)\n",
    "regression_result"
   ]
  },
  {
   "cell_type": "markdown",
   "metadata": {},
   "source": [
    "From the table it is evident that **DecisionTreeRegressor** has the highest validation sscore \\\n",
    "\\\n",
    "We'll be moving ahead with **DecisionTreeRegressor** and build the model and test it on the actual testing data"
   ]
  },
  {
   "cell_type": "markdown",
   "metadata": {},
   "source": [
    "## Final Model"
   ]
  },
  {
   "cell_type": "code",
   "execution_count": 53,
   "metadata": {},
   "outputs": [],
   "source": [
    "from sklearn.tree import DecisionTreeRegressor"
   ]
  },
  {
   "cell_type": "code",
   "execution_count": 54,
   "metadata": {},
   "outputs": [
    {
     "name": "stdout",
     "output_type": "stream",
     "text": [
      "Decision Tree Regression Train Score: \n",
      " 0.693664816200909\n",
      "Decision Tree Regression Test Score: \n",
      " 0.7052980745260897\n"
     ]
    }
   ],
   "source": [
    "final_model = DecisionTreeRegressor(max_leaf_nodes = 10, random_state=0)\n",
    "final_model.fit(X_train, y_train)\n",
    "print('Decision Tree Regression Train Score: \\n', final_model.score(X_train, y_train))\n",
    "print('Decision Tree Regression Test Score: \\n', final_model.score(X_test, y_test))"
   ]
  },
  {
   "cell_type": "markdown",
   "metadata": {},
   "source": [
    "**Predicting values of Y and comparing it with Actual Values of Y**"
   ]
  },
  {
   "cell_type": "code",
   "execution_count": 55,
   "metadata": {},
   "outputs": [],
   "source": [
    "y_predict = final_model.predict(X_test)"
   ]
  },
  {
   "cell_type": "code",
   "execution_count": 70,
   "metadata": {},
   "outputs": [],
   "source": [
    "dict = {'y_actual': y_test, 'y_predict': y_predict}"
   ]
  },
  {
   "cell_type": "code",
   "execution_count": 71,
   "metadata": {},
   "outputs": [],
   "source": [
    "prediction = pd.DataFrame(dict)"
   ]
  },
  {
   "cell_type": "code",
   "execution_count": 75,
   "metadata": {},
   "outputs": [],
   "source": [
    "prediction['residual'] = abs(prediction['y_actual'] - prediction['y_predict'])"
   ]
  },
  {
   "cell_type": "code",
   "execution_count": 76,
   "metadata": {},
   "outputs": [
    {
     "data": {
      "text/html": [
       "<div>\n",
       "<style scoped>\n",
       "    .dataframe tbody tr th:only-of-type {\n",
       "        vertical-align: middle;\n",
       "    }\n",
       "\n",
       "    .dataframe tbody tr th {\n",
       "        vertical-align: top;\n",
       "    }\n",
       "\n",
       "    .dataframe thead th {\n",
       "        text-align: right;\n",
       "    }\n",
       "</style>\n",
       "<table border=\"1\" class=\"dataframe\">\n",
       "  <thead>\n",
       "    <tr style=\"text-align: right;\">\n",
       "      <th></th>\n",
       "      <th>y_actual</th>\n",
       "      <th>y_predict</th>\n",
       "      <th>residual</th>\n",
       "    </tr>\n",
       "  </thead>\n",
       "  <tbody>\n",
       "    <tr>\n",
       "      <td>5509</td>\n",
       "      <td>7600.443798</td>\n",
       "      <td>8766.506164</td>\n",
       "      <td>1166.062366</td>\n",
       "    </tr>\n",
       "    <tr>\n",
       "      <td>6929</td>\n",
       "      <td>2588.435037</td>\n",
       "      <td>2992.253923</td>\n",
       "      <td>403.818886</td>\n",
       "    </tr>\n",
       "    <tr>\n",
       "      <td>156</td>\n",
       "      <td>3517.385764</td>\n",
       "      <td>2992.253923</td>\n",
       "      <td>525.131841</td>\n",
       "    </tr>\n",
       "    <tr>\n",
       "      <td>6987</td>\n",
       "      <td>5505.167392</td>\n",
       "      <td>5648.850997</td>\n",
       "      <td>143.683605</td>\n",
       "    </tr>\n",
       "    <tr>\n",
       "      <td>2548</td>\n",
       "      <td>2700.985899</td>\n",
       "      <td>2992.253923</td>\n",
       "      <td>291.268024</td>\n",
       "    </tr>\n",
       "    <tr>\n",
       "      <td>1833</td>\n",
       "      <td>3788.649817</td>\n",
       "      <td>2992.253923</td>\n",
       "      <td>796.395894</td>\n",
       "    </tr>\n",
       "    <tr>\n",
       "      <td>3711</td>\n",
       "      <td>10369.387400</td>\n",
       "      <td>11146.095639</td>\n",
       "      <td>776.708239</td>\n",
       "    </tr>\n",
       "    <tr>\n",
       "      <td>4668</td>\n",
       "      <td>4117.372390</td>\n",
       "      <td>4720.504855</td>\n",
       "      <td>603.132465</td>\n",
       "    </tr>\n",
       "    <tr>\n",
       "      <td>7657</td>\n",
       "      <td>26453.935120</td>\n",
       "      <td>12995.051751</td>\n",
       "      <td>13458.883369</td>\n",
       "    </tr>\n",
       "    <tr>\n",
       "      <td>123</td>\n",
       "      <td>15023.598580</td>\n",
       "      <td>15122.387080</td>\n",
       "      <td>98.788500</td>\n",
       "    </tr>\n",
       "  </tbody>\n",
       "</table>\n",
       "</div>"
      ],
      "text/plain": [
       "          y_actual     y_predict      residual\n",
       "5509   7600.443798   8766.506164   1166.062366\n",
       "6929   2588.435037   2992.253923    403.818886\n",
       "156    3517.385764   2992.253923    525.131841\n",
       "6987   5505.167392   5648.850997    143.683605\n",
       "2548   2700.985899   2992.253923    291.268024\n",
       "1833   3788.649817   2992.253923    796.395894\n",
       "3711  10369.387400  11146.095639    776.708239\n",
       "4668   4117.372390   4720.504855    603.132465\n",
       "7657  26453.935120  12995.051751  13458.883369\n",
       "123   15023.598580  15122.387080     98.788500"
      ]
     },
     "execution_count": 76,
     "metadata": {},
     "output_type": "execute_result"
    }
   ],
   "source": [
    "prediction.head(10)"
   ]
  }
 ],
 "metadata": {
  "kernelspec": {
   "display_name": "Python 3",
   "language": "python",
   "name": "python3"
  },
  "language_info": {
   "codemirror_mode": {
    "name": "ipython",
    "version": 3
   },
   "file_extension": ".py",
   "mimetype": "text/x-python",
   "name": "python",
   "nbconvert_exporter": "python",
   "pygments_lexer": "ipython3",
   "version": "3.7.4"
  }
 },
 "nbformat": 4,
 "nbformat_minor": 2
}
